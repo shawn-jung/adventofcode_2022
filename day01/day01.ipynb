{
 "cells": [
  {
   "cell_type": "markdown",
   "metadata": {},
   "source": [
    "Advent of Code - Day #1 "
   ]
  },
  {
   "cell_type": "code",
   "execution_count": 39,
   "metadata": {},
   "outputs": [],
   "source": [
    "# open the text file\n",
    "with open('puzzle_input.txt') as file_txt:\n",
    "    lines = [line.rstrip().lstrip() for line in file_txt]"
   ]
  },
  {
   "cell_type": "code",
   "execution_count": 40,
   "metadata": {},
   "outputs": [
    {
     "data": {
      "text/plain": [
       "['6750', '6538', '5292', '4635', '6855']"
      ]
     },
     "execution_count": 40,
     "metadata": {},
     "output_type": "execute_result"
    }
   ],
   "source": [
    "# glimpse of the text lines\n",
    "lines[0:5]"
   ]
  },
  {
   "cell_type": "code",
   "execution_count": 41,
   "metadata": {},
   "outputs": [],
   "source": [
    "elfno = 0 #counting each elf \n",
    "carries = {} #dict to get sum of fruits per each elf \n",
    "\n",
    "for i in range(len(lines)):\n",
    "    if lines[i] == '':\n",
    "        elfno += 1\n",
    "    else:\n",
    "        fruit = int(lines[i])\n",
    "        carries[elfno] = carries.get(elfno,0) + fruit #sum up fruits of each elf's bag\n"
   ]
  },
  {
   "cell_type": "code",
   "execution_count": 43,
   "metadata": {},
   "outputs": [
    {
     "data": {
      "text/plain": [
       "[(0, 58335), (1, 37941), (2, 55299), (3, 46042), (4, 41008)]"
      ]
     },
     "execution_count": 43,
     "metadata": {},
     "output_type": "execute_result"
    }
   ],
   "source": [
    "# sanity check if fruits in each bag is calcuated for calories\n",
    "list(carries.items())[0:5]"
   ]
  },
  {
   "cell_type": "code",
   "execution_count": 45,
   "metadata": {},
   "outputs": [
    {
     "data": {
      "text/plain": [
       "[(209, 70374), (230, 68996), (119, 65240)]"
      ]
     },
     "execution_count": 45,
     "metadata": {},
     "output_type": "execute_result"
    }
   ],
   "source": [
    "# wanted to use itemgetter \n",
    "from operator import itemgetter \n",
    "sorted(carries.items(), key = itemgetter(1), reverse=True)[0:3]"
   ]
  },
  {
   "cell_type": "code",
   "execution_count": 25,
   "metadata": {},
   "outputs": [
    {
     "data": {
      "text/plain": [
       "[(3, 24000), (2, 11000), (4, 10000), (0, 6000), (1, 4000)]"
      ]
     },
     "execution_count": 25,
     "metadata": {},
     "output_type": "execute_result"
    }
   ],
   "source": [
    "sorted(carries.items(), key = lambda x: x[1], reverse=True)"
   ]
  },
  {
   "cell_type": "code",
   "execution_count": 28,
   "metadata": {},
   "outputs": [],
   "source": [
    "elf_no = sorted(carries.items(), key = lambda x: x[1], reverse=True)[0][0]\n",
    "elf_fruit = sorted(carries.items(), key = lambda x: x[1], reverse=True)[0][1]"
   ]
  },
  {
   "cell_type": "code",
   "execution_count": 32,
   "metadata": {},
   "outputs": [
    {
     "name": "stdout",
     "output_type": "stream",
     "text": [
      "elf #4 has total calorie of 24000 in the bag!\n"
     ]
    }
   ],
   "source": [
    "print(f'elf #{elf_no+1} has total calorie of {elf_fruit} in the bag!')\n",
    "# Elves do not count from zero! So I will add one. "
   ]
  },
  {
   "cell_type": "code",
   "execution_count": null,
   "metadata": {},
   "outputs": [],
   "source": []
  }
 ],
 "metadata": {
  "kernelspec": {
   "display_name": "Python 3.9.13 ('mlearn')",
   "language": "python",
   "name": "python3"
  },
  "language_info": {
   "codemirror_mode": {
    "name": "ipython",
    "version": 3
   },
   "file_extension": ".py",
   "mimetype": "text/x-python",
   "name": "python",
   "nbconvert_exporter": "python",
   "pygments_lexer": "ipython3",
   "version": "3.9.13"
  },
  "orig_nbformat": 4,
  "vscode": {
   "interpreter": {
    "hash": "39b6b03b24b8c642d61e4d4f12e17fa00208311258abe47609460fafbd0e0ff8"
   }
  }
 },
 "nbformat": 4,
 "nbformat_minor": 2
}
