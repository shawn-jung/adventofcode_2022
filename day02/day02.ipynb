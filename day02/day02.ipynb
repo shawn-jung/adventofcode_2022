{
 "cells": [
  {
   "cell_type": "code",
   "execution_count": 67,
   "metadata": {},
   "outputs": [],
   "source": [
    "# open the text file\n",
    "#with open('sample_input.txt') as file_txt:\n",
    "with open('puzzle_input.txt') as file_txt:\n",
    "    lines = [line.rstrip().lstrip() for line in file_txt]"
   ]
  },
  {
   "cell_type": "code",
   "execution_count": 68,
   "metadata": {},
   "outputs": [],
   "source": [
    "shape_score = {\"rock\":1, \"paper\":2, \"scissors\":3}\n",
    "play_score = {\"win\":6, \"draw\":3, \"lose\":0}"
   ]
  },
  {
   "cell_type": "code",
   "execution_count": 69,
   "metadata": {},
   "outputs": [],
   "source": [
    "shape_encoding = {\n",
    "    \"A\": \"rock\",\n",
    "    \"B\": \"paper\",\n",
    "    \"C\": \"scissors\",\n",
    "    \"X\": \"rock\",\n",
    "    \"Y\": \"paper\",\n",
    "    \"Z\": \"scissors\",\n",
    "}\n",
    "play_determine = {\n",
    "    (\"rock\",\"rock\"):\"draw\", (\"rock\",\"paper\"):\"win\", (\"rock\",\"scissors\"):\"lose\",\n",
    "    (\"paper\",\"rock\"):\"lose\", (\"paper\",\"paper\"):\"draw\", (\"paper\",\"scissors\"):\"win\",\n",
    "    (\"scissors\",\"rock\"):\"win\",(\"scissors\",\"paper\"):\"lose\",(\"scissors\",\"scissors\"):\"draw\"\n",
    "}"
   ]
  },
  {
   "cell_type": "code",
   "execution_count": 70,
   "metadata": {},
   "outputs": [],
   "source": [
    "total_score = 0\n",
    "for l in range(len(lines)):\n",
    "    line = lines[l]\n",
    "    opponent, me = line.split(\" \")\n",
    "    opponent_shape = shape_encoding[opponent]\n",
    "    me_shape = shape_encoding[me]\n",
    "    me_shape_score = shape_score[me_shape]\n",
    "    match_score = play_score[play_determine[(opponent_shape,me_shape)]]\n",
    "\n",
    "    #print(me_shape_score, match_score)\n",
    "    total_score = total_score + me_shape_score + match_score"
   ]
  },
  {
   "cell_type": "code",
   "execution_count": 71,
   "metadata": {},
   "outputs": [
    {
     "name": "stdout",
     "output_type": "stream",
     "text": [
      "12794\n"
     ]
    }
   ],
   "source": [
    "print(total_score)"
   ]
  },
  {
   "cell_type": "code",
   "execution_count": 72,
   "metadata": {},
   "outputs": [],
   "source": [
    "tactic_encoding = {\"X\": \"lose\", \"Y\": \"draw\", \"Z\": \"win\"}"
   ]
  },
  {
   "cell_type": "code",
   "execution_count": 73,
   "metadata": {},
   "outputs": [
    {
     "data": {
      "text/plain": [
       "'lose'"
      ]
     },
     "execution_count": 73,
     "metadata": {},
     "output_type": "execute_result"
    }
   ],
   "source": [
    "tactic_encoding[\"X\"]"
   ]
  },
  {
   "cell_type": "code",
   "execution_count": 74,
   "metadata": {},
   "outputs": [
    {
     "data": {
      "text/plain": [
       "'scissors'"
      ]
     },
     "execution_count": 74,
     "metadata": {},
     "output_type": "execute_result"
    }
   ],
   "source": [
    "opponent_shape"
   ]
  },
  {
   "cell_type": "code",
   "execution_count": 77,
   "metadata": {},
   "outputs": [
    {
     "ename": "TypeError",
     "evalue": "list indices must be integers or slices, not str",
     "output_type": "error",
     "traceback": [
      "\u001b[0;31m---------------------------------------------------------------------------\u001b[0m",
      "\u001b[0;31mTypeError\u001b[0m                                 Traceback (most recent call last)",
      "Cell \u001b[0;32mIn[77], line 1\u001b[0m\n\u001b[0;32m----> 1\u001b[0m \u001b[39mlist\u001b[39;49m(play_determine\u001b[39m.\u001b[39;49mvalues())[\u001b[39m'\u001b[39;49m\u001b[39mlose\u001b[39;49m\u001b[39m'\u001b[39;49m]\n",
      "\u001b[0;31mTypeError\u001b[0m: list indices must be integers or slices, not str"
     ]
    }
   ],
   "source": [
    "list(play_determine.values())['lose']"
   ]
  },
  {
   "cell_type": "code",
   "execution_count": 80,
   "metadata": {},
   "outputs": [
    {
     "data": {
      "text/plain": [
       "dict_items([(('rock', 'rock'), 'draw'), (('rock', 'paper'), 'win'), (('rock', 'scissors'), 'lose'), (('paper', 'rock'), 'lose'), (('paper', 'paper'), 'draw'), (('paper', 'scissors'), 'win'), (('scissors', 'rock'), 'win'), (('scissors', 'paper'), 'lose'), (('scissors', 'scissors'), 'draw')])"
      ]
     },
     "execution_count": 80,
     "metadata": {},
     "output_type": "execute_result"
    }
   ],
   "source": [
    "play_determine.items()"
   ]
  },
  {
   "cell_type": "code",
   "execution_count": null,
   "metadata": {},
   "outputs": [],
   "source": []
  }
 ],
 "metadata": {
  "kernelspec": {
   "display_name": "Python 3.10.8 64-bit",
   "language": "python",
   "name": "python3"
  },
  "language_info": {
   "codemirror_mode": {
    "name": "ipython",
    "version": 3
   },
   "file_extension": ".py",
   "mimetype": "text/x-python",
   "name": "python",
   "nbconvert_exporter": "python",
   "pygments_lexer": "ipython3",
   "version": "3.10.8"
  },
  "orig_nbformat": 4,
  "vscode": {
   "interpreter": {
    "hash": "b0fa6594d8f4cbf19f97940f81e996739fb7646882a419484c72d19e05852a7e"
   }
  }
 },
 "nbformat": 4,
 "nbformat_minor": 2
}
